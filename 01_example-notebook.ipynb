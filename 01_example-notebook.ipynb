{
 "cells": [
  {
   "cell_type": "markdown",
   "metadata": {},
   "source": [
    "# Test Pangeo Gallery 1"
   ]
  },
  {
   "cell_type": "code",
   "execution_count": 1,
   "metadata": {
    "execution": {
     "iopub.execute_input": "2021-02-24T12:41:24.325784Z",
     "iopub.status.busy": "2021-02-24T12:41:24.324742Z",
     "iopub.status.idle": "2021-02-24T12:41:24.329372Z",
     "shell.execute_reply": "2021-02-24T12:41:24.328750Z"
    }
   },
   "outputs": [
    {
     "name": "stdout",
     "output_type": "stream",
     "text": [
      "Today's date and time: 2021-02-24 12:41:24.322939\n"
     ]
    }
   ],
   "source": [
    "from datetime import datetime\n",
    "now = datetime.today()\n",
    "print(\"Today's date and time:\", now)"
   ]
  },
  {
   "cell_type": "code",
   "execution_count": 2,
   "metadata": {
    "execution": {
     "iopub.execute_input": "2021-02-24T12:41:24.334259Z",
     "iopub.status.busy": "2021-02-24T12:41:24.333315Z",
     "iopub.status.idle": "2021-02-24T12:41:24.337370Z",
     "shell.execute_reply": "2021-02-24T12:41:24.336823Z"
    }
   },
   "outputs": [
    {
     "name": "stdout",
     "output_type": "stream",
     "text": [
      "jupyter-pangeo-2dgallery-2ddefault-2dbinder-2drrc1vniw\n"
     ]
    }
   ],
   "source": [
    "import socket\n",
    "print(socket.gethostname())"
   ]
  },
  {
   "cell_type": "code",
   "execution_count": null,
   "metadata": {},
   "outputs": [],
   "source": []
  }
 ],
 "metadata": {
  "kernelspec": {
   "display_name": "Python 3",
   "language": "python",
   "name": "python3"
  },
  "language_info": {
   "codemirror_mode": {
    "name": "ipython",
    "version": 3
   },
   "file_extension": ".py",
   "mimetype": "text/x-python",
   "name": "python",
   "nbconvert_exporter": "python",
   "pygments_lexer": "ipython3",
   "version": "3.8.6"
  }
 },
 "nbformat": 4,
 "nbformat_minor": 4
}
